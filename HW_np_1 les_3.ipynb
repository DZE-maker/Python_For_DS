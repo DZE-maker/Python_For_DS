{
 "cells": [
  {
   "cell_type": "code",
   "execution_count": 1,
   "metadata": {},
   "outputs": [],
   "source": [
    "import numpy as np"
   ]
  },
  {
   "cell_type": "code",
   "execution_count": 41,
   "metadata": {},
   "outputs": [
    {
     "name": "stdout",
     "output_type": "stream",
     "text": [
      "Среднее по признаку: [2.  8.4]\n",
      "[[-1.  -2.4]\n",
      " [ 0.  -0.4]\n",
      " [ 1.   2.6]\n",
      " [ 1.   1.6]\n",
      " [-1.  -1.4]]\n"
     ]
    }
   ],
   "source": [
    "A5x2 = np.array ([[1,6],\n",
    "                [2,8],\n",
    "                [3,11],\n",
    "                [3,10],\n",
    "                [1,7]])\n",
    "\n",
    "mean_a = (A5x2.mean(axis=0))\n",
    "a_centerial = A5x2 - mean_a\n",
    "print('Среднее по признаку: {}'.format(A5x2.mean(axis=0)))\n",
    "print(a_centerial)"
   ]
  },
  {
   "cell_type": "code",
   "execution_count": 56,
   "metadata": {},
   "outputs": [
    {
     "name": "stdout",
     "output_type": "stream",
     "text": [
      "[[-1.]\n",
      " [ 0.]\n",
      " [ 1.]\n",
      " [ 1.]\n",
      " [-1.]]\n"
     ]
    }
   ],
   "source": [
    "A = a_centerial[0:5, :1].copy()\n",
    "\n",
    "print(A)\n",
    "# выделяем 1-й признак"
   ]
  },
  {
   "cell_type": "code",
   "execution_count": 57,
   "metadata": {},
   "outputs": [
    {
     "name": "stdout",
     "output_type": "stream",
     "text": [
      "[[-2.4]\n",
      " [-0.4]\n",
      " [ 2.6]\n",
      " [ 1.6]\n",
      " [-1.4]]\n"
     ]
    }
   ],
   "source": [
    "B = a_centerial[0:5, 1:].copy()\n",
    "\n",
    "print(B)\n",
    "# выделяем 2-й признак"
   ]
  },
  {
   "cell_type": "code",
   "execution_count": 58,
   "metadata": {},
   "outputs": [
    {
     "name": "stdout",
     "output_type": "stream",
     "text": [
      "[[ 2.4]\n",
      " [-0. ]\n",
      " [ 2.6]\n",
      " [ 1.6]\n",
      " [ 1.4]]\n"
     ]
    }
   ],
   "source": [
    "a_centered_sp = A * B\n",
    "print(a_centered_sp)\n",
    "# скалярное произведение столбцов массива a_centered"
   ]
  },
  {
   "cell_type": "code",
   "execution_count": 70,
   "metadata": {},
   "outputs": [
    {
     "name": "stdout",
     "output_type": "stream",
     "text": [
      "[[ 0.8       ]\n",
      " [-0.        ]\n",
      " [ 0.86666667]\n",
      " [ 0.53333333]\n",
      " [ 0.46666667]]\n"
     ]
    }
   ],
   "source": [
    "# я не понял что такое количество наблюдений, но понял что это одно целое число, при его замене код будет работать \n",
    "N = np.array ([4])\n",
    "div = a_centered_sp/( N - 1)\n",
    "\n",
    "print(div)"
   ]
  }
 ],
 "metadata": {
  "kernelspec": {
   "display_name": "Python 3",
   "language": "python",
   "name": "python3"
  },
  "language_info": {
   "codemirror_mode": {
    "name": "ipython",
    "version": 3
   },
   "file_extension": ".py",
   "mimetype": "text/x-python",
   "name": "python",
   "nbconvert_exporter": "python",
   "pygments_lexer": "ipython3",
   "version": "3.7.3"
  }
 },
 "nbformat": 4,
 "nbformat_minor": 4
}
